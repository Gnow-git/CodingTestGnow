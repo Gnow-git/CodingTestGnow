{
 "cells": [
  {
   "cell_type": "markdown",
   "source": [
    "#5. 입출력"
   ],
   "metadata": {
    "collapsed": false,
    "pycharm": {
     "name": "#%% md\n"
    }
   }
  },
  {
   "cell_type": "code",
   "execution_count": 1,
   "outputs": [
    {
     "name": "stdout",
     "output_type": "stream",
     "text": [
      "[99, 90, 75, 65, 34]\n"
     ]
    }
   ],
   "source": [
    "# 입력을 위한 전형적인 소스코드\n",
    "\n",
    "# 데이터 개수 입력\n",
    "n = int(input())\n",
    "# 각 데이터를 공백으로 구분하여 입력\n",
    "data = list(map(int, input().split()))\n",
    "\n",
    "data.sort(reverse = True)\n",
    "print(data)"
   ],
   "metadata": {
    "collapsed": false,
    "pycharm": {
     "name": "#%%\n"
    }
   }
  },
  {
   "cell_type": "code",
   "execution_count": 4,
   "outputs": [
    {
     "name": "stdout",
     "output_type": "stream",
     "text": [
      "3 5 7\n"
     ]
    }
   ],
   "source": [
    "# 공백을 기준으로 구분하여 적은 수의 데이터 입력\n",
    "\n",
    "# n, m, k를 공백으로 구분하여 입력\n",
    "n, m, k = map(int, input().split())\n",
    "\n",
    "print(n, m, k)"
   ],
   "metadata": {
    "collapsed": false,
    "pycharm": {
     "name": "#%%\n"
    }
   }
  },
  {
   "cell_type": "code",
   "execution_count": 3,
   "outputs": [
    {
     "data": {
      "text/plain": "''"
     },
     "execution_count": 3,
     "metadata": {},
     "output_type": "execute_result"
    }
   ],
   "source": [
    "# 입력의 개수가 많은 경우 sys 라이브러리 사용\n",
    "import sys\n",
    "sys.stdin.readline().rstrip()"
   ],
   "metadata": {
    "collapsed": false,
    "pycharm": {
     "name": "#%%\n"
    }
   }
  },
  {
   "cell_type": "code",
   "execution_count": 5,
   "outputs": [
    {
     "name": "stdout",
     "output_type": "stream",
     "text": [
      "\n"
     ]
    }
   ],
   "source": [
    "# readline() 사용 소스코드 예시\n",
    "import sys\n",
    "\n",
    "# 문자열 입력받기\n",
    "data = sys.stdin.readline().rstrip()\n",
    "print(data)"
   ],
   "metadata": {
    "collapsed": false,
    "pycharm": {
     "name": "#%%\n"
    }
   }
  },
  {
   "cell_type": "code",
   "execution_count": 6,
   "outputs": [
    {
     "name": "stdout",
     "output_type": "stream",
     "text": [
      "1 2\n"
     ]
    }
   ],
   "source": [
    "# 변수 출력 예시\n",
    "\n",
    "# 출력할 변수들\n",
    "a = 1\n",
    "b = 2\n",
    "\n",
    "print(a, b)"
   ],
   "metadata": {
    "collapsed": false,
    "pycharm": {
     "name": "#%%\n"
    }
   }
  },
  {
   "cell_type": "code",
   "execution_count": 8,
   "outputs": [
    {
     "name": "stdout",
     "output_type": "stream",
     "text": [
      "1\n",
      "2\n"
     ]
    }
   ],
   "source": [
    "# 출력 줄 바꿈 예시\n",
    "\n",
    "# 출력할 변수들\n",
    "a = 1\n",
    "b = 2\n",
    "\n",
    "print(a)\n",
    "print(b)"
   ],
   "metadata": {
    "collapsed": false,
    "pycharm": {
     "name": "#%%\n"
    }
   }
  },
  {
   "cell_type": "code",
   "execution_count": 9,
   "outputs": [
    {
     "ename": "TypeError",
     "evalue": "can only concatenate str (not \"int\") to str",
     "output_type": "error",
     "traceback": [
      "\u001B[1;31m---------------------------------------------------------------------------\u001B[0m",
      "\u001B[1;31mTypeError\u001B[0m                                 Traceback (most recent call last)",
      "Cell \u001B[1;32mIn[9], line 6\u001B[0m\n\u001B[0;32m      1\u001B[0m \u001B[38;5;66;03m# 출력시 오류가 발생하는 소스코드 예시\u001B[39;00m\n\u001B[0;32m      2\u001B[0m \n\u001B[0;32m      3\u001B[0m \u001B[38;5;66;03m# 출력할 변수들\u001B[39;00m\n\u001B[0;32m      4\u001B[0m answer \u001B[38;5;241m=\u001B[39m \u001B[38;5;241m7\u001B[39m\n\u001B[1;32m----> 6\u001B[0m \u001B[38;5;28mprint\u001B[39m(\u001B[38;5;124;43m\"\u001B[39;49m\u001B[38;5;124;43m정답은 \u001B[39;49m\u001B[38;5;124;43m\"\u001B[39;49m\u001B[43m \u001B[49m\u001B[38;5;241;43m+\u001B[39;49m\u001B[43m \u001B[49m\u001B[43manswer\u001B[49m \u001B[38;5;241m+\u001B[39m \u001B[38;5;124m\"\u001B[39m\u001B[38;5;124m입니다.\u001B[39m\u001B[38;5;124m\"\u001B[39m)\n",
      "\u001B[1;31mTypeError\u001B[0m: can only concatenate str (not \"int\") to str"
     ]
    }
   ],
   "source": [
    "# 출력시 오류가 발생하는 소스코드 예시\n",
    "\n",
    "# 출력할 변수들\n",
    "answer = 7\n",
    "\n",
    "print(\"정답은 \" + answer + \"입니다.\")"
   ],
   "metadata": {
    "collapsed": false,
    "pycharm": {
     "name": "#%%\n"
    }
   }
  },
  {
   "cell_type": "code",
   "execution_count": 10,
   "outputs": [
    {
     "name": "stdout",
     "output_type": "stream",
     "text": [
      "정답은 7입니다.\n"
     ]
    }
   ],
   "source": [
    "# 변수를 문자열로 바꾸어 출력하는 소스코드 예시\n",
    "\n",
    "# 출력할 변수들\n",
    "answer = 7\n",
    "\n",
    "print(\"정답은 \" + str(answer) + \"입니다.\")"
   ],
   "metadata": {
    "collapsed": false,
    "pycharm": {
     "name": "#%%\n"
    }
   }
  },
  {
   "cell_type": "code",
   "execution_count": 11,
   "outputs": [
    {
     "name": "stdout",
     "output_type": "stream",
     "text": [
      "정답은 7 입니다.\n"
     ]
    }
   ],
   "source": [
    "# 각 변수를 콤마(.)로 구분하여 출력하는 소스코드 예시\n",
    "\n",
    "# 출력할 변수들\n",
    "answer = 7\n",
    "\n",
    "print(\"정답은\", str(answer), \"입니다.\")"
   ],
   "metadata": {
    "collapsed": false,
    "pycharm": {
     "name": "#%%\n"
    }
   }
  },
  {
   "cell_type": "code",
   "execution_count": 12,
   "outputs": [
    {
     "name": "stdout",
     "output_type": "stream",
     "text": [
      "정답은 7입니다.\n"
     ]
    }
   ],
   "source": [
    "# Python 3.6이상의 버전, f-string 문법, 중괄호 안에 변수를 넣어 자료형 변환 없이 가능\n",
    "\n",
    "answer = 7\n",
    "print(f\"정답은 {answer}입니다.\")"
   ],
   "metadata": {
    "collapsed": false,
    "pycharm": {
     "name": "#%%\n"
    }
   }
  }
 ],
 "metadata": {
  "kernelspec": {
   "display_name": "Python 3",
   "language": "python",
   "name": "python3"
  },
  "language_info": {
   "codemirror_mode": {
    "name": "ipython",
    "version": 2
   },
   "file_extension": ".py",
   "mimetype": "text/x-python",
   "name": "python",
   "nbconvert_exporter": "python",
   "pygments_lexer": "ipython2",
   "version": "2.7.6"
  }
 },
 "nbformat": 4,
 "nbformat_minor": 0
}